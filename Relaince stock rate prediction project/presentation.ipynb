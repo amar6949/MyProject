{
 "cells": [
  {
   "cell_type": "code",
   "execution_count": null,
   "id": "70cff105",
   "metadata": {},
   "outputs": [],
   "source": [
    "\"\"\"\n",
    "Long short term memory (LSTM) is a model that increases the memory of recurrent neural networks. \n",
    "Recurrent neural networks hold short term memory in that they allow earlier determining information \n",
    "to be employed in the current neural networks. For immediate tasks, the earlier data is used. \n",
    "We may not possess a list of all of the earlier information for the neural node.\n",
    " \n",
    "Their effectiveness should be implemented to multiple sequence modelling problems in many\n",
    "application domains like video, NLP, geospatial, and time-series.\n",
    " \n",
    "Time-series data is a series of data values gathered over time interims, allowing us to trace differences over time. \n",
    "Time-series data can trace progress over milliseconds, days, and years.\n",
    "\n",
    "\"\"\""
   ]
  },
  {
   "cell_type": "code",
   "execution_count": null,
   "id": "1f639f3f",
   "metadata": {},
   "outputs": [],
   "source": [
    "\"\"\"\n",
    "The dataset contains 15 columns associated with time series like the date and the different variables like \n",
    "close, high, low and volume. \n",
    "Here We will use opening and closing values for our experimentation of time series with LSTM.\n",
    "\"\"\""
   ]
  },
  {
   "cell_type": "code",
   "execution_count": null,
   "id": "546ff23b",
   "metadata": {},
   "outputs": [],
   "source": [
    "\"\"\"\n",
    "Now we use matplotlib to visualize the available data and see how our price values in data are being displayed.\n",
    "The green colour was used to visualize the open variable for the price-date graph, \n",
    "and for the closing variable, we used red colour.\n",
    "\n",
    "\"\"\""
   ]
  },
  {
   "cell_type": "code",
   "execution_count": null,
   "id": "de3b92fe",
   "metadata": {},
   "outputs": [],
   "source": [
    "\"\"\"\n",
    "Data Pre-processing:\n",
    "\n",
    "We must pre-process this data before applying stock price using LSTM.\n",
    "Min-max scaler is used for scaling the data so that we can bring all the price values to a common scale.\n",
    "We then use 80 % data for training and the rest 20% for testing and assign them to separate variables.\n",
    "\n",
    "\"\"\""
   ]
  },
  {
   "cell_type": "code",
   "execution_count": null,
   "id": "69c6c5a7",
   "metadata": {},
   "outputs": [],
   "source": [
    "\"\"\"\n",
    "A function is created so that we can create the sequence for training and testing.\n",
    "\"\"\""
   ]
  },
  {
   "cell_type": "code",
   "execution_count": null,
   "id": "4d920d73",
   "metadata": {},
   "outputs": [],
   "source": [
    "\"\"\"\n",
    "Implementation of our LSTM model:\n",
    "\n",
    "In the next step, we create our LSTM model.\n",
    "we will use the Sequential model imported from Keras and required libraries are imported\n",
    "\n",
    "\"\"\""
   ]
  },
  {
   "cell_type": "code",
   "execution_count": null,
   "id": "d5b73c34",
   "metadata": {},
   "outputs": [],
   "source": [
    "\"\"\"\n",
    "We use two LSTM layers in our model and implement drop out in between for regularization.\n",
    "The number of units assigned in the LSTM parameter is fifty. with a dropout of 10 %.\n",
    "Mean squared error is the loss function for optimizing the problem with adam optimizer.\n",
    "Mean absolute error is the metric used in our LSTM network as it is associated with time-series data\n",
    "\n",
    "\n",
    "\"\"\""
   ]
  },
  {
   "cell_type": "code",
   "execution_count": null,
   "id": "05ecbc11",
   "metadata": {},
   "outputs": [],
   "source": [
    "\"\"\"\n",
    "After fitting the data with our model we use it for prediction.\n",
    "We must use inverse transformation to get back the original value with the transformed function.\n",
    "Now we can use this data to visualize the prediction.\n",
    "\n",
    "\n",
    "\n",
    "\"\"\""
   ]
  }
 ],
 "metadata": {
  "kernelspec": {
   "display_name": "Python 3 (ipykernel)",
   "language": "python",
   "name": "python3"
  },
  "language_info": {
   "codemirror_mode": {
    "name": "ipython",
    "version": 3
   },
   "file_extension": ".py",
   "mimetype": "text/x-python",
   "name": "python",
   "nbconvert_exporter": "python",
   "pygments_lexer": "ipython3",
   "version": "3.9.13"
  }
 },
 "nbformat": 4,
 "nbformat_minor": 5
}
